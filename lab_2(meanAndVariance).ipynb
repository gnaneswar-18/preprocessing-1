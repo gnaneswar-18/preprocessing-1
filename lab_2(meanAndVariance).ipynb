{
  "nbformat": 4,
  "nbformat_minor": 0,
  "metadata": {
    "colab": {
      "provenance": [],
      "authorship_tag": "ABX9TyOEYP+cAnrINlnqw2qPkG0H",
      "include_colab_link": true
    },
    "kernelspec": {
      "name": "python3",
      "display_name": "Python 3"
    },
    "language_info": {
      "name": "python"
    }
  },
  "cells": [
    {
      "cell_type": "markdown",
      "metadata": {
        "id": "view-in-github",
        "colab_type": "text"
      },
      "source": [
        "<a href=\"https://colab.research.google.com/github/gnaneswar-18/preprocessing-1/blob/main/lab_2(meanAndVariance).ipynb\" target=\"_parent\"><img src=\"https://colab.research.google.com/assets/colab-badge.svg\" alt=\"Open In Colab\"/></a>"
      ]
    },
    {
      "cell_type": "code",
      "execution_count": null,
      "metadata": {
        "colab": {
          "base_uri": "https://localhost:8080/"
        },
        "id": "twVegDiilcKu",
        "outputId": "03507dd3-620a-4499-ab07-6b2475217021"
      },
      "outputs": [
        {
          "output_type": "stream",
          "name": "stdout",
          "text": [
            "array: [0.5173159  0.01615739 0.44197732 0.98422091 0.18818526 0.60869555\n",
            " 0.17721879 0.10421961 0.7912015  0.51711785]\n"
          ]
        }
      ],
      "source": [
        "import numpy as np\n",
        "N = 10\n",
        "arr = np.random.random(N)\n",
        "print(\"array:\", arr)"
      ]
    },
    {
      "cell_type": "code",
      "source": [
        "mean = np.mean(arr)\n",
        "variance = np.var(arr)\n",
        "\n",
        "print(\"Mean:\", mean)\n",
        "print(\"Variance:\", variance)"
      ],
      "metadata": {
        "colab": {
          "base_uri": "https://localhost:8080/"
        },
        "id": "YPgI5ObhmHfl",
        "outputId": "c79c7998-1eab-4b98-ff49-f5c743525fe4"
      },
      "execution_count": null,
      "outputs": [
        {
          "output_type": "stream",
          "name": "stdout",
          "text": [
            "Mean: 0.5343930670758518\n",
            "Variance: 0.07445256363456176\n"
          ]
        }
      ]
    },
    {
      "cell_type": "markdown",
      "source": [],
      "metadata": {
        "id": "WJfj3MsEoU4n"
      }
    }
  ]
}